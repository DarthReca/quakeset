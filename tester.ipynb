{
 "cells": [
  {
   "cell_type": "code",
   "execution_count": null,
   "metadata": {},
   "outputs": [],
   "source": [
    "from dataset import EarthQuakeDataModule\n",
    "from model import EarthQuakeModel\n",
    "from pytorch_lightning import Trainer\n",
    "from joblib import load\n",
    "from sklearn.metrics import mean_absolute_error, accuracy_score"
   ]
  },
  {
   "cell_type": "code",
   "execution_count": 3,
   "metadata": {},
   "outputs": [],
   "source": [
    "dm = EarthQuakeDataModule(file=\"data/earthquakes.h5\", split_file=\"data/earthquakes_split.parquet\", magnitudes_file=\"data/earthquakes.parquet\", num_workers=8, batch_size=16, fill_nan=0, post_only=True)"
   ]
  },
  {
   "cell_type": "markdown",
   "metadata": {},
   "source": [
    "# Deep Learning"
   ]
  },
  {
   "cell_type": "code",
   "execution_count": 3,
   "metadata": {},
   "outputs": [],
   "source": [
    "CHECKPOINT = \"\"\n",
    "model = EarthQuakeModel.load_from_checkpoint(CHECKPOINT, strict=False)"
   ]
  },
  {
   "cell_type": "code",
   "execution_count": null,
   "metadata": {},
   "outputs": [],
   "source": [
    "trainer = Trainer(devices=[1])\n",
    "out = trainer.test(model, datamodule=dm)"
   ]
  },
  {
   "cell_type": "markdown",
   "metadata": {},
   "source": [
    "# Classical"
   ]
  },
  {
   "cell_type": "code",
   "execution_count": 4,
   "metadata": {},
   "outputs": [],
   "source": [
    "CHECKPOINT = \"\"\n",
    "model = load(CHECKPOINT)"
   ]
  },
  {
   "cell_type": "code",
   "execution_count": null,
   "metadata": {},
   "outputs": [],
   "source": [
    "dm.setup(\"test\")\n",
    "test_sample = [dm.test_dataset[i][\"sample\"].flatten() for i in range(10)]\n",
    "model[0].transform(test_sample).shape, test_sample[0].shape"
   ]
  },
  {
   "cell_type": "code",
   "execution_count": null,
   "metadata": {},
   "outputs": [],
   "source": [
    "KEY = \"label\"\n",
    "dm.setup(\"test\")\n",
    "prediction_gt = []\n",
    "model.verbose = False\n",
    "for sample in dm.test_dataset:\n",
    "    gt = sample[KEY]\n",
    "    pred = model.predict(sample[\"sample\"].flatten().reshape(1, -1))\n",
    "    prediction_gt.append((pred, gt))"
   ]
  },
  {
   "cell_type": "code",
   "execution_count": null,
   "metadata": {},
   "outputs": [],
   "source": [
    "mae = mean_absolute_error([x[1] for x in prediction_gt], [x[0] for x in prediction_gt])\n",
    "acc = accuracy_score([x[1] > 1 for x in prediction_gt], [x[0] > 0 for x in prediction_gt])\n",
    "\n",
    "mae, acc"
   ]
  },
  {
   "cell_type": "code",
   "execution_count": null,
   "metadata": {},
   "outputs": [],
   "source": [
    "accuracy_score([x[1] for x in prediction_gt], [x[0] for x in prediction_gt])"
   ]
  }
 ],
 "metadata": {
  "kernelspec": {
   "display_name": "magnifier",
   "language": "python",
   "name": "python3"
  },
  "language_info": {
   "codemirror_mode": {
    "name": "ipython",
    "version": 3
   },
   "file_extension": ".py",
   "mimetype": "text/x-python",
   "name": "python",
   "nbconvert_exporter": "python",
   "pygments_lexer": "ipython3",
   "version": "3.10.0"
  }
 },
 "nbformat": 4,
 "nbformat_minor": 2
}
